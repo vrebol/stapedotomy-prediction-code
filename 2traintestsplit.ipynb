{
 "cells": [
  {
   "cell_type": "markdown",
   "metadata": {},
   "source": [
    "## Split to TRAIN and TEST"
   ]
  },
  {
   "cell_type": "code",
   "execution_count": 1,
   "metadata": {},
   "outputs": [],
   "source": [
    "import pandas as pd\n",
    "from sklearn.model_selection import train_test_split\n",
    "import constants\n",
    "\n",
    "\n",
    "adg_data = pd.read_csv('variables/scaled.csv')\n",
    "adg_data_orig = pd.read_csv('variables/processed.csv')\n",
    "# separate features and targets\n",
    "X = adg_data.iloc[:,:constants.FEATURES_NUM]\n",
    "y = adg_data.iloc[:,constants.FEATURES_NUM:]\n",
    "# split the data into training and testing sets (80:20)\n",
    "X_train, X_test, y_train, y_test = train_test_split(X, y, test_size=0.2, random_state=42)\n",
    "\n",
    "X_train.to_csv('variables/x_train.csv',index=False)\n",
    "X_test.to_csv('variables/x_test.csv',index=False)\n",
    "y_train.to_csv('variables/y_train.csv',index=False)\n",
    "y_test.to_csv('variables/y_test.csv',index=False)\n",
    "\n",
    "X_train, X_test, y_train, y_test = train_test_split(X, y, test_size=0.2, random_state=42)\n",
    "\n",
    "# unscaled data\n",
    "test_orig = adg_data_orig.iloc[X_test.index,:]\n",
    "train_orig = adg_data_orig.iloc[X_train.index,:]\n",
    "# extract test rows\n",
    "X_test_orig = test_orig.iloc[:,:constants.FEATURES_NUM]\n",
    "X_test_orig.to_csv('variables/x_test_orig.csv',index=False)\n",
    "\n",
    "# compute value means (training data)\n",
    "xmeans = train_orig.iloc[:,constants.FQ_START_INDEX:constants.FEATURES_NUM].mean()\n",
    "\n",
    "ymeans = train_orig.iloc[:,constants.FEATURES_NUM:].mean()\n",
    "\n",
    "xmeans.to_csv('variables/xmeans.csv',index=False)\n",
    "ymeans.to_csv('variables/ymeans.csv',index=False)\n",
    "\n"
   ]
  }
 ],
 "metadata": {
  "kernelspec": {
   "display_name": "Python 3",
   "language": "python",
   "name": "python3"
  },
  "language_info": {
   "codemirror_mode": {
    "name": "ipython",
    "version": 3
   },
   "file_extension": ".py",
   "mimetype": "text/x-python",
   "name": "python",
   "nbconvert_exporter": "python",
   "pygments_lexer": "ipython3",
   "version": "3.9.18"
  },
  "orig_nbformat": 4
 },
 "nbformat": 4,
 "nbformat_minor": 2
}
